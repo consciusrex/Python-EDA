{
 "cells": [
  {
   "cell_type": "code",
   "execution_count": 5,
   "id": "727c9b5f",
   "metadata": {},
   "outputs": [],
   "source": [
    "import numpy as np\n",
    "X = list(range(9))\n",
    "numpy = np.array(X).reshape(3,3)"
   ]
  },
  {
   "cell_type": "code",
   "execution_count": 20,
   "id": "2fa5ec27",
   "metadata": {},
   "outputs": [],
   "source": []
  },
  {
   "cell_type": "code",
   "execution_count": 19,
   "id": "046871a8",
   "metadata": {},
   "outputs": [
    {
     "data": {
      "text/plain": [
       "array([[0, 1, 2],\n",
       "       [3, 4, 5],\n",
       "       [6, 7, 8]])"
      ]
     },
     "execution_count": 19,
     "metadata": {},
     "output_type": "execute_result"
    }
   ],
   "source": [
    "numpy"
   ]
  },
  {
   "cell_type": "code",
   "execution_count": 65,
   "id": "f7777d63",
   "metadata": {},
   "outputs": [
    {
     "name": "stdout",
     "output_type": "stream",
     "text": [
      "{'mean': [[3.0, 4.0, 5.0], [1.0, 4.0, 7.0], 4.0], 'variance': [[6.0, 6.0, 6.0], [0.6666666666666666, 0.6666666666666666, 0.6666666666666666], 6.666666666666667], 'standard deviation': [[2.449489742783178, 2.449489742783178, 2.449489742783178], [0.816496580927726, 0.816496580927726, 0.816496580927726], 2.581988897471611], 'max': [[6, 7, 8], [2, 5, 8], 8], 'min': [[0, 1, 2], [0, 3, 6], 0], 'sum': [[9, 12, 15], [3, 12, 21], 36]}\n"
     ]
    }
   ],
   "source": [
    "def calculate(listy):\n",
    "    numpy = np.array(listy).reshape(3,3)\n",
    "    calculations ={\n",
    "        'mean':[],\n",
    "        'variance':[],\n",
    "        'standard deviation':[],\n",
    "        'max':[],\n",
    "        'min':[],\n",
    "        'sum':[]\n",
    "    }\n",
    "\n",
    "    mean = []\n",
    "    for i in range(2):\n",
    "        mea=list(numpy.mean(axis=i))\n",
    "        mean.append(mea)\n",
    "    k = numpy.flatten().mean()\n",
    "    mean.append(k)\n",
    "\n",
    "    variance = []\n",
    "    for i in range(2):\n",
    "        var=list(numpy.var(axis=i))\n",
    "        variance.append(var)\n",
    "    v = numpy.flatten().var()\n",
    "    variance.append(v)\n",
    "\n",
    "    standard_deviation = []\n",
    "    for i in range(2):\n",
    "        sd=list(numpy.std(axis=i))\n",
    "        standard_deviation.append(sd)\n",
    "    std = numpy.flatten().std()\n",
    "    standard_deviation.append(std)\n",
    "\n",
    "    maximum = []\n",
    "    for i in range(2):\n",
    "        ma=list(numpy.max(axis=i))\n",
    "        maximum.append(ma)\n",
    "    max_ = numpy.flatten().max()\n",
    "    maximum.append(max_)\n",
    "\n",
    "    minimum = []\n",
    "    for i in range(2):\n",
    "        mi=list(numpy.min(axis=i))\n",
    "        minimum.append(mi)\n",
    "    min_ = numpy.flatten().min()\n",
    "    minimum.append(min_)\n",
    "\n",
    "    sum = []\n",
    "    for i in range(2):\n",
    "        s=list(numpy.sum(axis=i))\n",
    "        sum.append(s)\n",
    "    su_ = numpy.flatten().sum()\n",
    "    sum.append(su_)\n",
    "\n",
    "\n",
    "\n",
    "    for keys in calculations:\n",
    "        if keys=='mean':\n",
    "            calculations[keys]+=mean\n",
    "        elif keys=='variance':\n",
    "            calculations[keys]+=variance\n",
    "        elif keys=='standard deviation':\n",
    "            calculations[keys]+=standard_deviation\n",
    "        elif keys=='max':\n",
    "            calculations[keys]+=maximum\n",
    "        elif keys=='min':\n",
    "            calculations[keys]+=minimum\n",
    "        elif keys=='sum':\n",
    "            calculations[keys]+=sum\n",
    "    print(calculations)\n",
    "    \n",
    "calculate([0,1,2,3,4,5,6,7,8])\n"
   ]
  },
  {
   "cell_type": "code",
   "execution_count": 23,
   "id": "ce10ba82",
   "metadata": {},
   "outputs": [],
   "source": [
    "mean=numpy.mean(axis=0)"
   ]
  },
  {
   "cell_type": "code",
   "execution_count": 24,
   "id": "2134214e",
   "metadata": {},
   "outputs": [
    {
     "data": {
      "text/plain": [
       "numpy.ndarray"
      ]
     },
     "execution_count": 24,
     "metadata": {},
     "output_type": "execute_result"
    }
   ],
   "source": [
    "type(mean)"
   ]
  },
  {
   "cell_type": "code",
   "execution_count": null,
   "id": "a9b6d798",
   "metadata": {},
   "outputs": [],
   "source": []
  }
 ],
 "metadata": {
  "kernelspec": {
   "display_name": "Python 3 (ipykernel)",
   "language": "python",
   "name": "python3"
  },
  "language_info": {
   "codemirror_mode": {
    "name": "ipython",
    "version": 3
   },
   "file_extension": ".py",
   "mimetype": "text/x-python",
   "name": "python",
   "nbconvert_exporter": "python",
   "pygments_lexer": "ipython3",
   "version": "3.10.9"
  }
 },
 "nbformat": 4,
 "nbformat_minor": 5
}
